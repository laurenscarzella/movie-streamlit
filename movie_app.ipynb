{
 "cells": [
  {
   "cell_type": "code",
   "execution_count": null,
   "metadata": {},
   "outputs": [],
   "source": [
    "# import libraries\n",
    "import streamlit as st\n",
    "import pandas as pd\n",
    "import plotly.express as px\n",
    "\n",
    "df = pd.read_csv(\"cleaned_movies.csv\")\n",
    "\n",
    "st.title(\"Most Popular Movies By Genre\")\n",
    "\n",
    "genre_filter = st.selectbox(\n",
    "    label = \"Select Genre:\",\n",
    "    options = df[\"primary_genre\"].unique(),\n",
    "    index = 0\n",
    ")\n",
    "\n",
    "if genre_filter:\n",
    "    filtered = df[df[\"primary_genre\"] == genre_filter]\n",
    "    sorted = filtered.sort_values(by = \"popularity\", ascending = False)\n",
    "\n",
    "    fig = px.bar(\n",
    "        sorted.head(10),\n",
    "        x = \"title\",\n",
    "        y = \"popularity\",\n",
    "        color = \"primary_genre\",\n",
    "        title = f\"Top 10 Most Popular Movies in {genre_filter} Genre\",\n",
    "        labels = {\"popularity\": \"Popularity\", \"title\": \"Movie Title\"},\n",
    "        color_discrete_sequence = ['#008080']\n",
    "    )\n",
    "\n",
    "    st.plotly_chart(fig)\n"
   ]
  }
 ],
 "metadata": {
  "language_info": {
   "name": "python"
  }
 },
 "nbformat": 4,
 "nbformat_minor": 2
}
